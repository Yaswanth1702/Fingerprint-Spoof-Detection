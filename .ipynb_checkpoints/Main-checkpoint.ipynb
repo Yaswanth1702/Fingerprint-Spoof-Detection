{
 "cells": [
  {
   "cell_type": "code",
   "execution_count": 1,
   "id": "021358b8",
   "metadata": {},
   "outputs": [],
   "source": [
    "import matplotlib.pyplot as plt\n",
    "from skimage.io import imread\n",
    "from skimage.feature import hog,local_binary_pattern\n",
    "import glob\n",
    "import numpy as np\n",
    "from sklearn import svm\n",
    "from skimage import feature\n",
    "from sklearn.metrics import classification_report\n",
    "from skimage.color import rgb2gray"
   ]
  },
  {
   "cell_type": "code",
   "execution_count": 2,
   "id": "119f2827",
   "metadata": {},
   "outputs": [],
   "source": [
    "# import training data\n",
    "live_train = glob.glob('data/Training Biometrika Live/live/*.png') #positive\n",
    "spoof_train = glob.glob('data/Training Biometrika Spoof/Training Biometrika Spoof/spoof/*.png') # negative\n",
    "\n",
    "# import testing data\n",
    "live_test = glob.glob('data/Testing Biometrika Live/live/*.png') # positive\n",
    "spoof_test = glob.glob('data/Testing Biometrika Spoof/Testing Biometrika Spoof/spoof/*.png') # negative"
   ]
  },
  {
   "cell_type": "code",
   "execution_count": 3,
   "id": "9657571a",
   "metadata": {},
   "outputs": [],
   "source": [
    "# initialize empty lists to append data\n",
    "live_train_images = []\n",
    "spoof_train_images = []\n",
    "live_test_images = []\n",
    "spoof_test_images = []\n",
    "\n",
    "# read images from given path and append to the variavles\n",
    "for path in live_train: live_train_images.append(imread(path))\n",
    "for path in spoof_train: spoof_train_images.append(imread(path))\n",
    "for path in live_test: live_test_images.append(imread(path))\n",
    "for path in spoof_test: spoof_test_images.append(imread(path))"
   ]
  },
  {
   "cell_type": "code",
   "execution_count": 4,
   "id": "6583b6d3",
   "metadata": {},
   "outputs": [],
   "source": [
    "# convert images to np arrays\n",
    "live_train_images, spoof_train_images = np.asarray(live_train_images), np.asarray(spoof_train_images)\n",
    "live_test_images, spoof_test_images = np.asarray(live_test_images), np.asarray(spoof_test_images)"
   ]
  },
  {
   "cell_type": "code",
   "execution_count": 5,
   "id": "331f7148",
   "metadata": {},
   "outputs": [
    {
     "data": {
      "text/plain": [
       "200"
      ]
     },
     "execution_count": 5,
     "metadata": {},
     "output_type": "execute_result"
    }
   ],
   "source": [
    "len(live_train_images)"
   ]
  },
  {
   "cell_type": "code",
   "execution_count": 6,
   "id": "780a92ef",
   "metadata": {},
   "outputs": [
    {
     "data": {
      "text/plain": [
       "200"
      ]
     },
     "execution_count": 6,
     "metadata": {},
     "output_type": "execute_result"
    }
   ],
   "source": [
    "len(live_test_images)"
   ]
  },
  {
   "cell_type": "code",
   "execution_count": 7,
   "id": "17afe12b",
   "metadata": {},
   "outputs": [
    {
     "data": {
      "text/plain": [
       "207"
      ]
     },
     "execution_count": 7,
     "metadata": {},
     "output_type": "execute_result"
    }
   ],
   "source": [
    "len(spoof_train_images)"
   ]
  },
  {
   "cell_type": "code",
   "execution_count": 8,
   "id": "88e315da",
   "metadata": {},
   "outputs": [
    {
     "name": "stderr",
     "output_type": "stream",
     "text": [
      "/Users/yaswanthganapathi/anaconda3/lib/python3.11/site-packages/skimage/feature/texture.py:353: UserWarning: Applying `local_binary_pattern` to floating-point images may give unexpected results when small numerical differences between adjacent pixels are present. It is recommended to use this function with images of integer dtype.\n",
      "  warnings.warn(\n"
     ]
    }
   ],
   "source": [
    "# change the type of feature you want to use here\n",
    "feature_type = \"lbp\" #hog or lbp\n",
    "\n",
    "# initialize empty lists to append features\n",
    "live_train_features, spoof_train_features = [], []\n",
    "live_test_features, spoof_test_features = [], []\n",
    "\n",
    "if(feature_type == \"hog\"):\n",
    "    \n",
    "    # calculate and store hog features of training data\n",
    "    for live_img, spoof_img in zip(live_train_images, spoof_train_images):\n",
    "        live_train_features.append(hog(live_img, feature_vector = True))\n",
    "        spoof_train_features.append(hog(spoof_img, feature_vector = True))\n",
    "    \n",
    "    # calculate and store hog features of testing data\n",
    "    for live_img, spoof_img in zip(live_test_images, spoof_test_images):\n",
    "        live_test_features.append(hog(live_img, feature_vector = True))\n",
    "        spoof_test_features.append(hog(spoof_img, feature_vector = True))\n",
    "        \n",
    "if(feature_type == \"lbp\"):\n",
    "\n",
    "# parameters copied from scikit docs of lbp\n",
    "    METHOD = 'uniform'\n",
    "    R = 3\n",
    "    P = 8 * R\n",
    "\n",
    "    # calculate and store lbp features of training data\n",
    "    for live_img, spoof_img in zip(live_train_images, spoof_train_images):\n",
    "        live_img = rgb2gray(live_img)\n",
    "        spoof_img = rgb2gray(spoof_img)\n",
    "        live_train_features.append(local_binary_pattern(live_img, P, R, METHOD).flatten())\n",
    "        spoof_train_features.append(local_binary_pattern(spoof_img, P, R, METHOD).flatten())\n",
    "    \n",
    "    # calculate and store lbp features of training data   \n",
    "    for live_img, spoof_img in zip(live_test_images, spoof_test_images):\n",
    "        # convert rgb to gray\n",
    "        live_img = rgb2gray(live_img)\n",
    "        # convert rgb to gray\n",
    "        spoof_img = rgb2gray(spoof_img)\n",
    "        live_test_features.append(local_binary_pattern(live_img, P, R, METHOD).flatten())\n",
    "        spoof_test_features.append(local_binary_pattern(spoof_img, P, R, METHOD).flatten())"
   ]
  },
  {
   "cell_type": "code",
   "execution_count": 9,
   "id": "e31b5f9e",
   "metadata": {},
   "outputs": [],
   "source": [
    "# define labels 1 for live and 0 for spoof\n",
    "# i.e. create a list of 200 1's and 200 0's \n",
    "labels_train = [[1]]*len(live_train_features) + [[0]]*len(spoof_train_features)\n",
    "\n",
    "# merge both positive and negative training data\n",
    "full_train = live_train_features + spoof_train_features\n",
    "\n",
    "# assign labels for all test data, 1 for positive, 0 for negative\n",
    "labels_test = [[1]]*len(live_test_features) + [[0]]*len(spoof_test_features)\n",
    "\n",
    "# merge both positive and negative training data\n",
    "full_test = live_test_features + spoof_test_features\n"
   ]
  },
  {
   "cell_type": "code",
   "execution_count": 10,
   "id": "1831ee20",
   "metadata": {},
   "outputs": [
    {
     "data": {
      "text/plain": [
       "400"
      ]
     },
     "execution_count": 10,
     "metadata": {},
     "output_type": "execute_result"
    }
   ],
   "source": [
    "len(labels_train)"
   ]
  },
  {
   "cell_type": "code",
   "execution_count": 11,
   "id": "c5edddb6",
   "metadata": {},
   "outputs": [
    {
     "data": {
      "text/plain": [
       "400"
      ]
     },
     "execution_count": 11,
     "metadata": {},
     "output_type": "execute_result"
    }
   ],
   "source": [
    "len(full_train)"
   ]
  },
  {
   "cell_type": "code",
   "execution_count": 12,
   "id": "7f465efa",
   "metadata": {},
   "outputs": [
    {
     "data": {
      "text/plain": [
       "200"
      ]
     },
     "execution_count": 12,
     "metadata": {},
     "output_type": "execute_result"
    }
   ],
   "source": [
    "len(live_train_features)"
   ]
  },
  {
   "cell_type": "code",
   "execution_count": null,
   "id": "e37bb009",
   "metadata": {},
   "outputs": [],
   "source": []
  }
 ],
 "metadata": {
  "kernelspec": {
   "display_name": "Python 3 (ipykernel)",
   "language": "python",
   "name": "python3"
  },
  "language_info": {
   "codemirror_mode": {
    "name": "ipython",
    "version": 3
   },
   "file_extension": ".py",
   "mimetype": "text/x-python",
   "name": "python",
   "nbconvert_exporter": "python",
   "pygments_lexer": "ipython3",
   "version": "3.11.4"
  }
 },
 "nbformat": 4,
 "nbformat_minor": 5
}
